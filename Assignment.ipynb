{
  "nbformat": 4,
  "nbformat_minor": 0,
  "metadata": {
    "colab": {
      "provenance": [],
      "authorship_tag": "ABX9TyOacuWgXeyzMTmm7Lagu1G6",
      "include_colab_link": true
    },
    "kernelspec": {
      "name": "python3",
      "display_name": "Python 3"
    },
    "language_info": {
      "name": "python"
    }
  },
  "cells": [
    {
      "cell_type": "markdown",
      "metadata": {
        "id": "view-in-github",
        "colab_type": "text"
      },
      "source": [
        "<a href=\"https://colab.research.google.com/github/krutvik30/Assignment-/blob/main/Assignment.ipynb\" target=\"_parent\"><img src=\"https://colab.research.google.com/assets/colab-badge.svg\" alt=\"Open In Colab\"/></a>"
      ]
    },
    {
      "cell_type": "markdown",
      "source": [
        "**## Python Basics Questions**"
      ],
      "metadata": {
        "id": "1P0vfZvwjQz4"
      }
    },
    {
      "cell_type": "markdown",
      "source": [
        "1) What is Python, and why is it popular?"
      ],
      "metadata": {
        "id": "J59wA-N9n4A7"
      }
    },
    {
      "cell_type": "markdown",
      "source": [
        "=> Python is a high-level, interpreted programming language known for its simplicity, readability, and versatility. It is popular due to its vast libraries, community support, and use cases in web development, data science, automation, artificial intelligence, and more."
      ],
      "metadata": {
        "id": "I5i_cJmJlbqQ"
      }
    },
    {
      "cell_type": "markdown",
      "source": [
        "2) What is an interpreter in Python?"
      ],
      "metadata": {
        "id": "elfq59RXoH5y"
      }
    },
    {
      "cell_type": "markdown",
      "source": [
        "=> An interpreter in Python translates code into machine-readable form one line at a time, allowing immediate execution without requiring prior compilation, making Python flexible and dynamic.\n"
      ],
      "metadata": {
        "id": "1b-1mieTl-1r"
      }
    },
    {
      "cell_type": "markdown",
      "source": [
        "3) What are pre-defined keywords in Python?"
      ],
      "metadata": {
        "id": "_jeRjNtGoO9r"
      }
    },
    {
      "cell_type": "markdown",
      "source": [
        "=> Pre-defined keywords in Python are reserved words that have specific meanings, like `if`, `else`, and `import`. They cannot be used as identifiers or variable names."
      ],
      "metadata": {
        "id": "7kvo2RYXmFZL"
      }
    },
    {
      "cell_type": "markdown",
      "source": [
        "4) Can keywords be used as variable names?"
      ],
      "metadata": {
        "id": "7xADOYxIoTqf"
      }
    },
    {
      "cell_type": "markdown",
      "source": [
        "=> No."
      ],
      "metadata": {
        "id": "8wlk-h0KmNiH"
      }
    },
    {
      "cell_type": "markdown",
      "source": [
        "5) What is mutability in Python?"
      ],
      "metadata": {
        "id": "5EdW6_jqoXy6"
      }
    },
    {
      "cell_type": "markdown",
      "source": [
        "=> Mutability in Python refers to whether an object can be modified after creation. Mutable objects can be changed, while immutable objects cannot."
      ],
      "metadata": {
        "id": "JcEL__CmmV-R"
      }
    },
    {
      "cell_type": "markdown",
      "source": [
        "6) Why are lists mutable, but tuples are immutable?"
      ],
      "metadata": {
        "id": "aHxXsqjIodXr"
      }
    },
    {
      "cell_type": "markdown",
      "source": [
        "=> Lists are mutable because their elements can be altered without changing the object’s identity, whereas tuples are immutable and cannot be changed after creation."
      ],
      "metadata": {
        "id": "VC6jSOtJmakw"
      }
    },
    {
      "cell_type": "markdown",
      "source": [
        "7) What is the difference between '==' and 'is' operators in Python?"
      ],
      "metadata": {
        "id": "Tsn0A6w0ohK6"
      }
    },
    {
      "cell_type": "markdown",
      "source": [
        "=> '==' checks for value equality, while 'is' checks for object identity."
      ],
      "metadata": {
        "id": "Bt12SPhqmeWG"
      }
    },
    {
      "cell_type": "markdown",
      "source": [
        "8) What are logical operators in Python?"
      ],
      "metadata": {
        "id": "rFG6e5ttok9c"
      }
    },
    {
      "cell_type": "markdown",
      "source": [
        "=> Logical operators in Python include `and`, `or`, and `not`, used to combine conditional statements."
      ],
      "metadata": {
        "id": "FBDIaYatmhpB"
      }
    },
    {
      "cell_type": "markdown",
      "source": [
        "9) What is type casting in Python?"
      ],
      "metadata": {
        "id": "rj06-fvHoyaJ"
      }
    },
    {
      "cell_type": "markdown",
      "source": [
        "=> Type casting is converting one data type to another, like from a string to an integer, to enable type-compatible operations."
      ],
      "metadata": {
        "id": "1WMsKeVymmeN"
      }
    },
    {
      "cell_type": "markdown",
      "source": [
        "10) What is the difference between implicit and explicit type casting?"
      ],
      "metadata": {
        "id": "_hDSqUbRo5Bw"
      }
    },
    {
      "cell_type": "markdown",
      "source": [
        "=> Implicit type casting is done automatically by Python, while explicit casting requires manual conversion using functions like `int()`."
      ],
      "metadata": {
        "id": "UKTJ2I1nmqgn"
      }
    },
    {
      "cell_type": "markdown",
      "source": [
        "11) What is the purpose of conditional statements in Python?"
      ],
      "metadata": {
        "id": "vRH21TIPo-wH"
      }
    },
    {
      "cell_type": "markdown",
      "source": [
        "=> Conditional statements execute code based on specific conditions, enabling decision-making in programs."
      ],
      "metadata": {
        "id": "orJEi5S-mwci"
      }
    },
    {
      "cell_type": "markdown",
      "source": [
        "12) How does the elif statement work?"
      ],
      "metadata": {
        "id": "3O5cHXvnpD6m"
      }
    },
    {
      "cell_type": "markdown",
      "source": [
        "=> The `elif` statement allows multiple conditions to be checked in sequence, executing the first true condition."
      ],
      "metadata": {
        "id": "Ap_3lAz3m0tZ"
      }
    },
    {
      "cell_type": "markdown",
      "source": [
        "13) What is the difference between for and while loops?"
      ],
      "metadata": {
        "id": "82B_Pe6WpI-4"
      }
    },
    {
      "cell_type": "markdown",
      "source": [
        "=> :`for` loops iterate over a sequence, while `while` loops continue until a condition is false."
      ],
      "metadata": {
        "id": "3Dn2gORanBtj"
      }
    },
    {
      "cell_type": "markdown",
      "source": [
        "14) Describe a scenario where a while loop is more suitable than a for loop."
      ],
      "metadata": {
        "id": "MF2tcY6_pS9X"
      }
    },
    {
      "cell_type": "markdown",
      "source": [
        "=> A while loop is suitable when the number of iterations is not known in advance, such as reading user input until a stop condition."
      ],
      "metadata": {
        "id": "OZvOtBq_nDi9"
      }
    },
    {
      "cell_type": "markdown",
      "source": [
        "**## Practical Questions**\n"
      ],
      "metadata": {
        "id": "SeNKPlZVlOOf"
      }
    },
    {
      "cell_type": "markdown",
      "source": [
        "1) Write a Python program to print 'Hello, World!'"
      ],
      "metadata": {
        "id": "-ZueV0VbpnYb"
      }
    },
    {
      "cell_type": "code",
      "source": [
        "print('Hello, World!')"
      ],
      "metadata": {
        "colab": {
          "base_uri": "https://localhost:8080/"
        },
        "id": "A039HFe0npcw",
        "outputId": "5d92ab8b-d527-47d2-ee73-b1eac225d8e1"
      },
      "execution_count": null,
      "outputs": [
        {
          "output_type": "stream",
          "name": "stdout",
          "text": [
            "Hello, World!\n"
          ]
        }
      ]
    },
    {
      "cell_type": "markdown",
      "source": [
        "2)  Write a Python program that displays your name and age."
      ],
      "metadata": {
        "id": "wN7zI3GJprcV"
      }
    },
    {
      "cell_type": "code",
      "source": [
        "name = \"Krutvik\"\n",
        "age = 24\n",
        "print(f\"My name is {name} and I am {age} years old.\")"
      ],
      "metadata": {
        "colab": {
          "base_uri": "https://localhost:8080/"
        },
        "id": "JAjretm_nzNj",
        "outputId": "4004c897-25ac-4732-bd0d-61cd97e9dc14"
      },
      "execution_count": null,
      "outputs": [
        {
          "output_type": "stream",
          "name": "stdout",
          "text": [
            "My name is Krutvik and I am 24 years old.\n"
          ]
        }
      ]
    },
    {
      "cell_type": "markdown",
      "source": [
        "3)  Write code to print all the pre-defined keywords in Python using the keyword library."
      ],
      "metadata": {
        "id": "s94XyLKmqDKn"
      }
    },
    {
      "cell_type": "code",
      "source": [
        "print(keyword.kwlist)"
      ],
      "metadata": {
        "colab": {
          "base_uri": "https://localhost:8080/"
        },
        "id": "v9o-rGPvqHPM",
        "outputId": "344745f8-79ab-4937-ae2b-e55316dfcd15"
      },
      "execution_count": null,
      "outputs": [
        {
          "output_type": "stream",
          "name": "stdout",
          "text": [
            "['False', 'None', 'True', 'and', 'as', 'assert', 'async', 'await', 'break', 'class', 'continue', 'def', 'del', 'elif', 'else', 'except', 'finally', 'for', 'from', 'global', 'if', 'import', 'in', 'is', 'lambda', 'nonlocal', 'not', 'or', 'pass', 'raise', 'return', 'try', 'while', 'with', 'yield']\n"
          ]
        }
      ]
    },
    {
      "cell_type": "markdown",
      "source": [
        "4) Write a program that checks if a given word is a Python keyword."
      ],
      "metadata": {
        "id": "AZe50pR9qQjK"
      }
    },
    {
      "cell_type": "code",
      "source": [
        "word = input(\"Enter a word: \")\n",
        "if keyword.iskeyword(word):\n",
        "    print(f\"{word} is a keyword.\")\n",
        "else:\n",
        "    print(f\"{word} is not a keyword.\")"
      ],
      "metadata": {
        "colab": {
          "base_uri": "https://localhost:8080/"
        },
        "id": "3UIX5TxjqWD-",
        "outputId": "9a0a1fb1-3043-48d5-f32a-f126e3af745f"
      },
      "execution_count": null,
      "outputs": [
        {
          "output_type": "stream",
          "name": "stdout",
          "text": [
            "Enter a word: class\n",
            "class is a keyword.\n"
          ]
        }
      ]
    },
    {
      "cell_type": "markdown",
      "source": [
        "5) Create a list and tuple in Python, and demonstrate how attempting to change an element works differently\n",
        "for each."
      ],
      "metadata": {
        "id": "vnc8L1rqrZE6"
      }
    },
    {
      "cell_type": "code",
      "source": [
        "my_list = [1, 2, 3]\n",
        "my_tuple = (1, 2, 3)\n",
        "my_list[0] = 10\n",
        "try:\n",
        "    my_tuple[0] = 10\n",
        "except TypeError as e:\n",
        "    print(f\"Error: {e}\")"
      ],
      "metadata": {
        "colab": {
          "base_uri": "https://localhost:8080/"
        },
        "id": "a2iV7NHtriFI",
        "outputId": "011ebfc4-3c38-418e-c9c4-db34d8085f8b"
      },
      "execution_count": null,
      "outputs": [
        {
          "output_type": "stream",
          "name": "stdout",
          "text": [
            "Error: 'tuple' object does not support item assignment\n"
          ]
        }
      ]
    },
    {
      "cell_type": "markdown",
      "source": [
        "6) Write a function to demonstrate the behavior of mutable and immutable arguments."
      ],
      "metadata": {
        "id": "udJFILUIsHlo"
      }
    },
    {
      "cell_type": "code",
      "source": [
        "def modify_args(mutable, immutable):\n",
        "    mutable.append(50)\n",
        "    immutable += (100,)\n",
        "    return mutable, immutable\n",
        "my_list = [1, 51]\n",
        "my_tuple = (1, 10)\n",
        "new_list, new_tuple = modify_args(my_list, my_tuple)\n",
        "print(\"Mutable (list):\", new_list)\n",
        "print(\"Immutable (tuple):\", new_tuple)"
      ],
      "metadata": {
        "colab": {
          "base_uri": "https://localhost:8080/"
        },
        "id": "_U_G86VDsLmb",
        "outputId": "8ee51121-0878-4fc9-b18d-fb6f48a3d51d"
      },
      "execution_count": null,
      "outputs": [
        {
          "output_type": "stream",
          "name": "stdout",
          "text": [
            "Mutable (list): [1, 51, 50]\n",
            "Immutable (tuple): (1, 10, 100)\n"
          ]
        }
      ]
    },
    {
      "cell_type": "markdown",
      "source": [
        "7) Write a program that performs basic arithmetic operations on two user-input numbers."
      ],
      "metadata": {
        "id": "TlwgNfzx0MNz"
      }
    },
    {
      "cell_type": "code",
      "source": [
        "def main():\n",
        "    # Taking user input for two numbers\n",
        "    num1 = float(input(\"1: \"))\n",
        "    num2 = float(input(\"100: \"))\n",
        "\n",
        "    # Performing arithmetic operations\n",
        "    addition = num1 + num2\n",
        "    subtraction = num1 - num2\n",
        "    multiplication = num1 * num2\n",
        "\n",
        "    # Handling division by zero\n",
        "    if num2 != 0:\n",
        "        division = num1 / num2\n",
        "    else:\n",
        "        division = \"Undefined (division by zero)\"\n",
        "\n",
        "    # Displaying results\n",
        "    print(f\"Addition: {num1} + {num2} = {addition}\")\n",
        "    print(f\"Subtraction: {num1} - {num2} = {subtraction}\")\n",
        "    print(f\"Multiplication: {num1} * {num2} = {multiplication}\")\n",
        "    print(f\"Division: {num1} / {num2} = {division}\")\n",
        "\n",
        "if __name__ == \"__main__\":\n",
        "    main()"
      ],
      "metadata": {
        "colab": {
          "base_uri": "https://localhost:8080/"
        },
        "id": "BGt1cIAbs1p9",
        "outputId": "1f34b933-87dc-438f-bdc3-3bc6e5589907"
      },
      "execution_count": null,
      "outputs": [
        {
          "output_type": "stream",
          "name": "stdout",
          "text": [
            "1: 10\n",
            "100: 50\n",
            "Addition: 10.0 + 50.0 = 60.0\n",
            "Subtraction: 10.0 - 50.0 = -40.0\n",
            "Multiplication: 10.0 * 50.0 = 500.0\n",
            "Division: 10.0 / 50.0 = 0.2\n"
          ]
        }
      ]
    },
    {
      "cell_type": "markdown",
      "source": [
        "8)  Write a program to demonstrate the use of logical operators."
      ],
      "metadata": {
        "id": "q7Y4xe2ytpit"
      }
    },
    {
      "cell_type": "code",
      "source": [
        "a, b = True, False\n",
        "print(\"AND operation:\", a and b)\n",
        "print(\"OR operation:\", a or b)\n",
        "print(\"NOT operation:\", not a)"
      ],
      "metadata": {
        "colab": {
          "base_uri": "https://localhost:8080/"
        },
        "id": "xN-ek-N6tsjf",
        "outputId": "9077269e-8208-4d9d-a82c-15c5e74c799d"
      },
      "execution_count": null,
      "outputs": [
        {
          "output_type": "stream",
          "name": "stdout",
          "text": [
            "AND operation: False\n",
            "OR operation: True\n",
            "NOT operation: False\n"
          ]
        }
      ]
    },
    {
      "cell_type": "markdown",
      "source": [
        "9)  Write a Python program to convert user input from string to integer, float, and boolean types."
      ],
      "metadata": {
        "id": "rlHyiiPItx1x"
      }
    },
    {
      "cell_type": "code",
      "source": [
        "value = input(\"Enter a value: \")\n",
        "print(\"Integer:\", int(value))\n",
        "print(\"Float:\", float(value))\n",
        "print(\"Boolean:\", bool(value))"
      ],
      "metadata": {
        "colab": {
          "base_uri": "https://localhost:8080/"
        },
        "id": "GjD99L2ft2LM",
        "outputId": "b1f15da6-aa95-409a-c681-1ebf21044e5f"
      },
      "execution_count": null,
      "outputs": [
        {
          "output_type": "stream",
          "name": "stdout",
          "text": [
            "Enter a value: -1\n",
            "Integer: -1\n",
            "Float: -1.0\n",
            "Boolean: True\n"
          ]
        }
      ]
    },
    {
      "cell_type": "markdown",
      "source": [
        "10)  Write code to demonstrate type casting with list elements."
      ],
      "metadata": {
        "id": "d-u29V7luJsf"
      }
    },
    {
      "cell_type": "code",
      "source": [
        "list_strings = [\"10\", \"20\", \"30\"]\n",
        "list_integers = [int(x) for x in list_strings]\n",
        "print(\"Converted to integers:\", list_integers)"
      ],
      "metadata": {
        "colab": {
          "base_uri": "https://localhost:8080/"
        },
        "id": "oEw6VmzJuMuu",
        "outputId": "bc1febfd-759a-40b6-d39b-211523ebfcf3"
      },
      "execution_count": null,
      "outputs": [
        {
          "output_type": "stream",
          "name": "stdout",
          "text": [
            "Converted to integers: [10, 20, 30]\n"
          ]
        }
      ]
    },
    {
      "cell_type": "markdown",
      "source": [
        "11)  Write a program that checks if a number is positive, negative, or zero.\n"
      ],
      "metadata": {
        "id": "ZAf0B_ymuSwR"
      }
    },
    {
      "cell_type": "code",
      "source": [
        "number = float(input(\"Enter a number: \"))\n",
        "if number > 0:\n",
        "    print(\"Positive\")\n",
        "elif number < 0:\n",
        "    print(\"Negative\")\n",
        "else:\n",
        "    print(\"Zero\")"
      ],
      "metadata": {
        "colab": {
          "base_uri": "https://localhost:8080/"
        },
        "id": "oYkx4_5luZGy",
        "outputId": "391e9def-893e-4b04-d162-2c2ed8d228ec"
      },
      "execution_count": null,
      "outputs": [
        {
          "output_type": "stream",
          "name": "stdout",
          "text": [
            "Enter a number: -1\n",
            "Negative\n"
          ]
        }
      ]
    },
    {
      "cell_type": "markdown",
      "source": [
        "12)  Write a for loop to print numbers from 1 to 10."
      ],
      "metadata": {
        "id": "haU61_cnulDR"
      }
    },
    {
      "cell_type": "code",
      "source": [
        "for i in range(1, 11):\n",
        "    print(i)"
      ],
      "metadata": {
        "colab": {
          "base_uri": "https://localhost:8080/"
        },
        "id": "92eJewsWunxe",
        "outputId": "d33c22ab-78f2-4239-8c8c-ec64f9ac259f"
      },
      "execution_count": null,
      "outputs": [
        {
          "output_type": "stream",
          "name": "stdout",
          "text": [
            "1\n",
            "2\n",
            "3\n",
            "4\n",
            "5\n",
            "6\n",
            "7\n",
            "8\n",
            "9\n",
            "10\n"
          ]
        }
      ]
    },
    {
      "cell_type": "markdown",
      "source": [
        "13)  Write a Python program to find the sum of all even numbers between 1 and 50."
      ],
      "metadata": {
        "id": "rnZGSr0yuxoP"
      }
    },
    {
      "cell_type": "code",
      "source": [
        "print(sum(i for i in range(1, 10) if i % 2 == 0))"
      ],
      "metadata": {
        "colab": {
          "base_uri": "https://localhost:8080/"
        },
        "id": "k6twu7rhu0Zm",
        "outputId": "b99d64be-1e1c-4bb3-cb8a-00c5e412897f"
      },
      "execution_count": null,
      "outputs": [
        {
          "output_type": "stream",
          "name": "stdout",
          "text": [
            "20\n"
          ]
        }
      ]
    },
    {
      "cell_type": "markdown",
      "source": [
        "14)  Write a program to reverse a string using a while loop."
      ],
      "metadata": {
        "id": "mAyorteOvOet"
      }
    },
    {
      "cell_type": "code",
      "source": [
        "text = input(\"Enter a string: \")\n",
        "reversed_text = \"\"\n",
        "i = len(text) - 1\n",
        "while i >= 0:\n",
        "    reversed_text += text[i]\n",
        "    i -= 1\n",
        "print(\"Reversed string:\", reversed_text)"
      ],
      "metadata": {
        "colab": {
          "base_uri": "https://localhost:8080/"
        },
        "id": "fyCNbbIKvRNH",
        "outputId": "a69a5214-ecf5-4207-f155-c4b05f587d64"
      },
      "execution_count": null,
      "outputs": [
        {
          "output_type": "stream",
          "name": "stdout",
          "text": [
            "Enter a string: Krutvik\n",
            "Reversed string: kivturK\n"
          ]
        }
      ]
    },
    {
      "cell_type": "markdown",
      "source": [
        "15)  Write a Python program to calculate the factorial of a number provided by the user using a while loop."
      ],
      "metadata": {
        "id": "L80TdGuGvics"
      }
    },
    {
      "cell_type": "code",
      "source": [
        "number = int(input(\"Enter a number: \"))\n",
        "factorial = 1\n",
        "while number > 1:\n",
        "    factorial *= number\n",
        "    number -= 1\n",
        "print(\"Factorial is:\", factorial)"
      ],
      "metadata": {
        "colab": {
          "base_uri": "https://localhost:8080/"
        },
        "id": "CbIbUGv7vlMd",
        "outputId": "180d95c7-fc92-4b3e-9eac-7bf72d5483e4"
      },
      "execution_count": null,
      "outputs": [
        {
          "output_type": "stream",
          "name": "stdout",
          "text": [
            "Enter a number: 50\n",
            "Factorial is: 30414093201713378043612608166064768844377641568960512000000000000\n"
          ]
        }
      ]
    }
  ]
}